{
  "cells": [
    {
      "cell_type": "markdown",
      "metadata": {},
      "source": [
        "# Homework 2: Loops and While Loops\n",
        "\n",
        "## **Submission Guidelines**\n",
        "* Focus on completing Exercises 1, 2 and 3. Exercises 4 and 5 are _stretch challenges_.\n",
        "* Submit your work as a single Python file (__`.py`__) or a Jupyter Notebook (__`.ipynb`__).\n",
        "* Clearly label each exercise and include comments to explain your logic.\n",
        "\n",
        "## Instructions\n",
        "\n",
        "Complete the following exercises in a single Python file or Jupyter Notebook. Clearly label each exercise and include comments explaining your logic. Use while loops, conditionals, list indexing (referring to the first element, the second element, etc.), and arithmetic operations.\n",
        "\n",
        "Focus on completing Exercises 1–3. Exercises 4 and 5 are stretch challenges.\n",
        "\n",
        "**Remember to start with the English steps, write pseudocode, then write code.**"
      ]
    },
    {
      "cell_type": "markdown",
      "metadata": {},
      "source": [
        "## Exercise 1: Combined Basic While Loop and List Iteration\n",
        "\n",
        "### Part (a): Print Numbers 1 to 10\n",
        "\n",
        "Write a while loop that prints the numbers from 1 to 10 (each on a new line)."
      ]
    },
    {
      "cell_type": "code",
      "execution_count": 2,
      "metadata": {},
      "outputs": [
        {
          "name": "stdout",
          "output_type": "stream",
          "text": [
            "1\n",
            "2\n",
            "3\n",
            "4\n",
            "5\n",
            "6\n",
            "7\n",
            "8\n",
            "9\n",
            "10\n",
            "1\n",
            "2\n",
            "3\n",
            "4\n",
            "5\n",
            "6\n",
            "7\n",
            "8\n",
            "9\n",
            "10\n"
          ]
        }
      ],
      "source": [
        "# Exercise 1 (a): Print numbers 1 to 10 using a while loop\n",
        "# Your code here\n",
        "idx = 1\n",
        "while idx <= 10:\n",
        "    print(idx)\n",
        "    idx += 1\n",
        "\n",
        "# Bonus - try as a for loop\n",
        "for i in range(1, 11):\n",
        "    print(i)"
      ]
    },
    {
      "cell_type": "markdown",
      "metadata": {},
      "source": [
        "### Part (b): List Iteration\n",
        "\n",
        "1. Create a list with 5 elements of your choice.\n",
        "2. Use a while loop to iterate through the list and print each element."
      ]
    },
    {
      "cell_type": "code",
      "execution_count": 7,
      "metadata": {},
      "outputs": [],
      "source": [
        "# Exercise 1 (b): Create a list with 5 elements\n",
        "# Your code here\n",
        "lst = [\"hello\", 1, \"world\", 3.14, 2]\n"
      ]
    },
    {
      "cell_type": "code",
      "execution_count": 8,
      "metadata": {},
      "outputs": [
        {
          "name": "stdout",
          "output_type": "stream",
          "text": [
            "hello\n",
            "1\n",
            "world\n",
            "3.14\n",
            "2\n"
          ]
        }
      ],
      "source": [
        "# Exercise 1 (b): Use a while loop to iterate through the list and print each element\n",
        "# Your code here\n",
        "el = 0\n",
        "while el < len(lst):\n",
        "    print(lst[el])\n",
        "    el += 1"
      ]
    },
    {
      "cell_type": "markdown",
      "metadata": {},
      "source": [
        "## Exercise 2: Sum and Average\n",
        "\n",
        "1. Create a list of 5 numbers.\n",
        "2. Use a while loop to compute the sum of the numbers in the list.\n",
        "3. Calculate the average (total divided by the number of elements).\n",
        "4. Print the sum and the average."
      ]
    },
    {
      "cell_type": "code",
      "execution_count": 10,
      "metadata": {},
      "outputs": [],
      "source": [
        "# Exercise 2, Step 1: Create a list of 5 numbers\n",
        "# Your code here\n",
        "nums = [5, 4, 3, 2, 1]"
      ]
    },
    {
      "cell_type": "code",
      "execution_count": 11,
      "metadata": {},
      "outputs": [],
      "source": [
        "# Exercise 2, Step 2: Use a while loop to compute the sum of the numbers\n",
        "# Your code here\n",
        "idx = 0\n",
        "sum = 0\n",
        "while idx < len(nums):\n",
        "    sum += nums[idx]\n",
        "    idx += 1"
      ]
    },
    {
      "cell_type": "code",
      "execution_count": 12,
      "metadata": {},
      "outputs": [
        {
          "name": "stdout",
          "output_type": "stream",
          "text": [
            "3.0\n"
          ]
        }
      ],
      "source": [
        "# Exercise 2, Step 3: Calculate the average (total divided by the number of elements)\n",
        "# Your code here\n",
        "avg = sum / len(nums)\n",
        "print(avg)"
      ]
    },
    {
      "cell_type": "code",
      "execution_count": 13,
      "metadata": {},
      "outputs": [
        {
          "name": "stdout",
          "output_type": "stream",
          "text": [
            "Sum:  15\n",
            "Average:  3.0\n"
          ]
        }
      ],
      "source": [
        "# Exercise 2, Step 4: Print the sum and the average\n",
        "# Your code here\n",
        "print('Sum: ', sum)\n",
        "print('Average: ', avg)"
      ]
    },
    {
      "cell_type": "markdown",
      "metadata": {},
      "source": [
        "## Exercise 3: Fizzbuzz\n",
        "\n",
        "A list of numbers from 1 to 100 is provided below. Write a while loop that iterates through this array. For each number, do the following:\n",
        "- If the number is divisible by 15, print **fizzbuzz**.\n",
        "- If the number is divisible by 5, print **buzz**.\n",
        "- If the number is divisible by 3, print **fizz**.\n",
        "- Otherwise, print the number."
      ]
    },
    {
      "cell_type": "code",
      "execution_count": 16,
      "metadata": {},
      "outputs": [
        {
          "name": "stdout",
          "output_type": "stream",
          "text": [
            "1\n",
            "2\n",
            "fizz\n",
            "4\n",
            "buzz\n",
            "fizz\n",
            "7\n",
            "8\n",
            "fizz\n",
            "buzz\n",
            "11\n",
            "fizz\n",
            "13\n",
            "14\n",
            "fizzbuzz\n",
            "16\n",
            "17\n",
            "fizz\n",
            "19\n",
            "buzz\n",
            "fizz\n",
            "22\n",
            "23\n",
            "fizz\n",
            "buzz\n",
            "26\n",
            "fizz\n",
            "28\n",
            "29\n",
            "fizzbuzz\n",
            "31\n",
            "32\n",
            "fizz\n",
            "34\n",
            "buzz\n",
            "fizz\n",
            "37\n",
            "38\n",
            "fizz\n",
            "buzz\n",
            "41\n",
            "fizz\n",
            "43\n",
            "44\n",
            "fizzbuzz\n",
            "46\n",
            "47\n",
            "fizz\n",
            "49\n",
            "buzz\n",
            "fizz\n",
            "52\n",
            "53\n",
            "fizz\n",
            "buzz\n",
            "56\n",
            "fizz\n",
            "58\n",
            "59\n",
            "fizzbuzz\n",
            "61\n",
            "62\n",
            "fizz\n",
            "64\n",
            "buzz\n",
            "fizz\n",
            "67\n",
            "68\n",
            "fizz\n",
            "buzz\n",
            "71\n",
            "fizz\n",
            "73\n",
            "74\n",
            "fizzbuzz\n",
            "76\n",
            "77\n",
            "fizz\n",
            "79\n",
            "buzz\n",
            "fizz\n",
            "82\n",
            "83\n",
            "fizz\n",
            "buzz\n",
            "86\n",
            "fizz\n",
            "88\n",
            "89\n",
            "fizzbuzz\n",
            "91\n",
            "92\n",
            "fizz\n",
            "94\n",
            "buzz\n",
            "fizz\n",
            "97\n",
            "98\n",
            "fizz\n",
            "buzz\n"
          ]
        }
      ],
      "source": [
        "# Exercise 3: Fizzbuzz\n",
        "numbers = [1, 2, 3, 4, 5, 6, 7, 8, 9, 10,\n",
        "           11, 12, 13, 14, 15, 16, 17, 18, 19, 20,\n",
        "           21, 22, 23, 24, 25, 26, 27, 28, 29, 30,\n",
        "           31, 32, 33, 34, 35, 36, 37, 38, 39, 40,\n",
        "           41, 42, 43, 44, 45, 46, 47, 48, 49, 50,\n",
        "           51, 52, 53, 54, 55, 56, 57, 58, 59, 60,\n",
        "           61, 62, 63, 64, 65, 66, 67, 68, 69, 70,\n",
        "           71, 72, 73, 74, 75, 76, 77, 78, 79, 80,\n",
        "           81, 82, 83, 84, 85, 86, 87, 88, 89, 90,\n",
        "           91, 92, 93, 94, 95, 96, 97, 98, 99, 100]\n",
        "\n",
        "# Your code here\n",
        "for num in numbers:\n",
        "    if num % 15 == 0: print(\"fizzbuzz\")\n",
        "    elif num % 5 == 0: print(\"buzz\")\n",
        "    elif num % 3 == 0: print(\"fizz\")\n",
        "    else: print(num)\n",
        "# Example Output: \n",
        "# 1 \n",
        "# 2 \n",
        "# Fizz \n",
        "# 4 \n",
        "# Buzz\n",
        "# ...\n",
        "# ...\n",
        "# 14\n",
        "# FizzBuzz\n",
        "# 16\n",
        "# ...\n",
        "# etc..."
      ]
    },
    {
      "cell_type": "markdown",
      "metadata": {},
      "source": [
        "## Exercise 4: Tax Calculation (Extra Hard)\n",
        "\n",
        "1. Create a list of 5 item prices (numbers).\n",
        "2. Set a tax rate (as a decimal, for example 0.08 for 8%).\n",
        "3. Using a while loop, iterate through the list:\n",
        "   - For each price, compute the price including tax.\n",
        "   - Accumulate the total cost including tax.\n",
        "4. Print the total cost including tax.\n",
        "5. (Optional) Calculate and print the average cost including tax."
      ]
    },
    {
      "cell_type": "code",
      "execution_count": 17,
      "metadata": {},
      "outputs": [],
      "source": [
        "# Exercise 4, Step 1: Create a list of 5 item prices\n",
        "# Your code here\n",
        "prices = [29.99, 14.99, 2.75, 1, 2.50]\n",
        "    "
      ]
    },
    {
      "cell_type": "code",
      "execution_count": 18,
      "metadata": {},
      "outputs": [],
      "source": [
        "# Exercise 4, Step 2: Set a tax rate (e.g., 0.08 for 8% tax)\n",
        "# Your code here\n",
        "tax_rate = .08"
      ]
    },
    {
      "cell_type": "code",
      "execution_count": 25,
      "metadata": {},
      "outputs": [],
      "source": [
        "# Exercise 4, Step 3: Use a while loop to compute the price including tax for each item and accumulate the total cost\n",
        "# Your code \n",
        "item = 0\n",
        "total = 0\n",
        "while item < len(prices):\n",
        "    total += prices[item] + round(prices[item] * tax_rate, 2)\n",
        "    item += 1\n"
      ]
    },
    {
      "cell_type": "code",
      "execution_count": 26,
      "metadata": {},
      "outputs": [
        {
          "name": "stdout",
          "output_type": "stream",
          "text": [
            "Total: $ 55.33\n"
          ]
        }
      ],
      "source": [
        "# Exercise 4, Step 4: Print the total cost including tax\n",
        "# Your code here\n",
        "print(\"Total: $\", total)\n",
        "\n"
      ]
    },
    {
      "cell_type": "code",
      "execution_count": 28,
      "metadata": {},
      "outputs": [
        {
          "name": "stdout",
          "output_type": "stream",
          "text": [
            "$11.07\n"
          ]
        }
      ],
      "source": [
        "# Exercise 4, Optional Step 5: Calculate and print the average cost including tax\n",
        "# Your code here\n",
        "avg_cost = round(total / len(prices), 2)\n",
        "print(f\"${avg_cost}\")"
      ]
    },
    {
      "cell_type": "markdown",
      "metadata": {},
      "source": [
        "## Exercise 5: Sorting a List Using a While Loop (Nearly Impossible)\n",
        "\n",
        "1. Create a list of 5 numbers in random order.\n",
        "2. Implement a sort using a while loop and conditionals. Do not use any built-in sort functions.\n",
        "3. Print the sorted list in ascending order."
      ]
    },
    {
      "cell_type": "code",
      "execution_count": 30,
      "metadata": {},
      "outputs": [],
      "source": [
        "# Exercise 5, Step 1: Create a list of 5 numbers in random order\n",
        "# Your code here\n",
        "arr = [12, 3, 4, 5, 9]\n"
      ]
    },
    {
      "cell_type": "code",
      "execution_count": 37,
      "metadata": {},
      "outputs": [],
      "source": [
        "# Exercise 5, Step 2: Implement a sort (e.g., bubble sort) using a while loop and conditionals\n",
        "# Your code here\n",
        "i = 0\n",
        "# iterating pointer\n",
        "while i < len(arr):\n",
        "    j = 0\n",
        "    # comparison pointer\n",
        "    while j < len(arr) - i - 1:\n",
        "        # swap if lower idx value greater than higher idx value\n",
        "        if arr[j] > arr[j+1]:\n",
        "            arr[j], arr[j+1] = arr[j+1], arr[j]\n",
        "        # move j forward\n",
        "        j += 1\n",
        "    # move i forward\n",
        "    i += 1"
      ]
    },
    {
      "cell_type": "code",
      "execution_count": 36,
      "metadata": {},
      "outputs": [
        {
          "name": "stdout",
          "output_type": "stream",
          "text": [
            "[3, 4, 5, 9, 12]\n"
          ]
        }
      ],
      "source": [
        "# Exercise 5, Step 3: Print the sorted list\n",
        "# Your code here\n",
        "print(arr)"
      ]
    },
    {
      "cell_type": "markdown",
      "metadata": {},
      "source": [
        "## Submission Guidelines\n",
        "\n",
        "- Submit your work as a single Python file (`.py`) or a Jupyter Notebook (`.ipynb`).\n",
        "- Clearly label each exercise and include comments to explain your logic.\n",
        "- Focus on completing Exercises 1–3 thoroughly. Exercises 4 and 5 are stretch challenges.\n",
        "\n",
        "Good luck, and have fun practicing your loops, list operations, and conditional logic!"
      ]
    }
  ],
  "metadata": {
    "kernelspec": {
      "display_name": "Python 3",
      "language": "python",
      "name": "python3"
    },
    "language_info": {
      "codemirror_mode": {
        "name": "ipython",
        "version": 3
      },
      "file_extension": ".py",
      "mimetype": "text/x-python",
      "name": "python",
      "nbconvert_exporter": "python",
      "pygments_lexer": "ipython3",
      "version": "3.13.0"
    }
  },
  "nbformat": 4,
  "nbformat_minor": 2
}
