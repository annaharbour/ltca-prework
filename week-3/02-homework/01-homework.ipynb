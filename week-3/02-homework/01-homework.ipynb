{
 "cells": [
  {
   "cell_type": "markdown",
   "metadata": {},
   "source": [
    "# Homework: Lists and Conditional Logic\n",
    "\n",
    "## **Submission Guidelines**\n",
    "* Focus on completing Exercises 1, 2 and 3. Exercises 4 and 5 are _stretch challenges_.\n",
    "* Submit your work as a single Python file (__`.py`__) or a Jupyter Notebook (__`.ipynb`__).\n",
    "* Clearly label each exercise and include comments to explain your logic.\n",
    "\n",
    "## Instructions\n",
    "\n",
    "Complete the following exercises in a single Python file or Jupyter Notebook. Clearly label each exercise and include comments explaining your logic. Focus on completing Exercises 1–3; Exercises 4 and 5 are stretch challenges. **Do not use loops or built-in aggregate functions in Exercises 4 and 5.** Use only basic variables, list indexing (referring to the first element, second element, etc.), conditionals, and arithmetic operations.\n",
    "\n",
    "Focus on completing Exercises 1–3. Exercises 4 and 5 are stretch challenges.\n",
    "\n",
    "**Remember to start with the English steps, write pseudocode, then write code.**"
   ]
  },
  {
   "cell_type": "markdown",
   "metadata": {},
   "source": [
    "### Exercise 1: Basic List Operations\n",
    "\n",
    "1. **Create a List:** Write code to create a list with 5 elements of your choice.\n",
    "2. **Print the List:** Display the original list.\n",
    "3. **Modify the List:**\n",
    "   - Change the second element to a new value.\n",
    "   - Append a new element to the end of the list.\n",
    "   - Remove the third element from the list.\n",
    "4. **Print the Updated List:** Verify your modifications by printing the final list.\n"
   ]
  },
  {
   "cell_type": "code",
   "execution_count": null,
   "metadata": {},
   "outputs": [
    {
     "name": "stdout",
     "output_type": "stream",
     "text": [
      "['A', 'B', 'C', 'D', 'E']\n",
      "['A', 'Bee', 'D', 'E', 'F']\n"
     ]
    }
   ],
   "source": [
    "# Exercise 1, Step 1: Create a list with 5 elements\n",
    "# Your code here\n",
    "lst = ['A', 'B', 'C', 'D', 'E']"
   ]
  },
  {
   "cell_type": "code",
   "execution_count": 9,
   "metadata": {},
   "outputs": [
    {
     "name": "stdout",
     "output_type": "stream",
     "text": [
      "['A', 'Bee', 'D', 'E', 'F']\n"
     ]
    }
   ],
   "source": [
    "# Exercise 1, Step 2: Print the original list\n",
    "# Your code here\n",
    "print(lst)"
   ]
  },
  {
   "cell_type": "code",
   "execution_count": 11,
   "metadata": {},
   "outputs": [],
   "source": [
    "# Exercise 1, Step 3: Modify the list\n",
    "# - Change the second element to a new value\n",
    "# - Append a new element to the end of the list\n",
    "# - Remove the third element from the list\n",
    "# Your code here\n",
    "\n",
    "lst[1] = \"Bee\"\n",
    "lst.append('F')\n",
    "lst.remove(lst[2])"
   ]
  },
  {
   "cell_type": "code",
   "execution_count": 10,
   "metadata": {},
   "outputs": [
    {
     "name": "stdout",
     "output_type": "stream",
     "text": [
      "['A', 'Bee', 'D', 'E', 'F']\n"
     ]
    }
   ],
   "source": [
    "# Exercise 1, Step 4: Print the updated list\n",
    "# Your code here\n",
    "print(lst)"
   ]
  },
  {
   "cell_type": "markdown",
   "metadata": {},
   "source": [
    "### Exercise 2: Membership Check\n",
    "\n",
    "1. **Create a List:** Write code to create a list with 5 colors of your choice.\n",
    "2. **Membership Check:** Check if the color \"blue\" is in your list.\n",
    "   - If it is present, print a message confirming that the list contains \"blue\".\n",
    "   - If it is not present, print a message indicating that \"blue\" is not in the list.\n",
    "\n",
    "*Note:* You do not need to retrieve the position of the element; simply print a confirmation message."
   ]
  },
  {
   "cell_type": "code",
   "execution_count": 14,
   "metadata": {},
   "outputs": [],
   "source": [
    "# Exercise 2, Step 1: Create a list with 5 colors\n",
    "# Your code here\n",
    "colors = [\"pink\", \"cyan\", \"green\", \"maroon\", \"yellow\"]\n"
   ]
  },
  {
   "cell_type": "code",
   "execution_count": 13,
   "metadata": {},
   "outputs": [
    {
     "name": "stdout",
     "output_type": "stream",
     "text": [
      "Blue is not a color in my list\n"
     ]
    }
   ],
   "source": [
    "# Exercise 2, Step 2: Check for membership of 'blue'\n",
    "# Your code here\n",
    "print(\"Blue is a color in my list\") if \"blue\" in colors else print(\"Blue is not a color in my list\")"
   ]
  },
  {
   "cell_type": "markdown",
   "metadata": {},
   "source": [
    "### Exercise 3: Real-World List Modification (Hard)\n",
    "\n",
    "Imagine you are managing a set of 5 numbers (for example, representing test scores). Write a program that performs the following tasks (remember: the first element is the first, the second is the second, and so on):\n",
    "\n",
    "1. **Initialize the List:** Create a list of 5 numbers.\n",
    "2. **Conditional Adjustment:** Check if the third element is less than 50.\n",
    "   - If it is, update that element to 50.\n",
    "3. **Conditional Penalty:** Calculate the sum of the first element and the last element.\n",
    "   - If this sum is greater than 100, set the last element to 0.\n",
    "4. **Swap Operation:** Swap the first element with the third element.\n",
    "5. **Print the Final List:** Display the modified list.\n"
   ]
  },
  {
   "cell_type": "code",
   "execution_count": 35,
   "metadata": {},
   "outputs": [],
   "source": [
    "# Exercise 3, Step 1: Initialize a list of 5 numbers\n",
    "# Your code here\n",
    "nums = [1, 2, 3, 4, 5]"
   ]
  },
  {
   "cell_type": "code",
   "execution_count": 36,
   "metadata": {},
   "outputs": [],
   "source": [
    "# Exercise 3, Step 2: Conditional adjustment - if the third element is less than 50, update it to 50\n",
    "# Your code here\n",
    "if nums[2] < 50: nums[2] = 50"
   ]
  },
  {
   "cell_type": "code",
   "execution_count": 37,
   "metadata": {},
   "outputs": [],
   "source": [
    "# Exercise 3, Step 3: Conditional penalty - if the sum of the first and last elements is greater than 100, set the last element to 0\n",
    "# Your code here\n",
    "nums[-1] = 0 and nums[0] + nums[-1] == 100"
   ]
  },
  {
   "cell_type": "code",
   "execution_count": null,
   "metadata": {},
   "outputs": [],
   "source": [
    "# Exercise 3, Step 4: Swap the first element with the third element\n",
    "# Your code here\n",
    "nums[0], nums[2] = nums[2], nums[0]\n",
    "# could also do following:\n",
    "# temp = nums[0]\n",
    "# nums[0] = nums[2]\n",
    "# nums[2] = temp"
   ]
  },
  {
   "cell_type": "code",
   "execution_count": 43,
   "metadata": {},
   "outputs": [
    {
     "name": "stdout",
     "output_type": "stream",
     "text": [
      "[50, 2, 1, 4, 0]\n"
     ]
    }
   ],
   "source": [
    "# Exercise 3, Step 5: Print the final list\n",
    "# Your code here\n",
    "print(nums)"
   ]
  },
  {
   "cell_type": "markdown",
   "metadata": {},
   "source": [
    "### Exercise 4: Manual Analysis Without Loops or Built-In Functions (Extra Hard)\n",
    "\n",
    "You are given a list of 10 numbers (for instance, representing grades). Without using loops or built-in functions (such as `sum()`, `len()`, etc.), complete the following tasks by manually accessing each element:\n",
    "\n",
    "1. **Create a List:** Write code to create a list with 10 numbers.\n",
    "2. **Compute the Total:** Manually add all the numbers by accessing each element individually.\n",
    "3. **Calculate the Average:** Divide the total by the number of elements in the list.\n",
    "4. **Determine the Highest Value:** Use `if` statements to compare the elements and determine the highest value.\n",
    "5. **Determine the Lowest Value:** Similarly, determine the lowest value among the elements.\n",
    "6. **Print Your Results:** Display the average, highest, and lowest values.\n"
   ]
  },
  {
   "cell_type": "code",
   "execution_count": 44,
   "metadata": {},
   "outputs": [],
   "source": [
    "# Exercise 4, Step 1: Create a list with 10 numbers\n",
    "# Your code here\n",
    "numbers = [1, 2, 3, 4, 5, 6, 7, 8, 9, 10] \n"
   ]
  },
  {
   "cell_type": "code",
   "execution_count": 46,
   "metadata": {},
   "outputs": [],
   "source": [
    "# Exercise 4, Step 2: Manually compute the total of all numbers\n",
    "# Your code here\n",
    "total = numbers[0] + numbers[1] + numbers[2] + numbers[3] + numbers[4] + numbers[5] + numbers[6] + numbers[7] + numbers[8] + numbers[9]"
   ]
  },
  {
   "cell_type": "code",
   "execution_count": 47,
   "metadata": {},
   "outputs": [],
   "source": [
    "# Exercise 4, Step 3: Calculate the average of the numbers\n",
    "# Your code here\n",
    "avg = total / 10"
   ]
  },
  {
   "cell_type": "code",
   "execution_count": 50,
   "metadata": {},
   "outputs": [
    {
     "name": "stdout",
     "output_type": "stream",
     "text": [
      "10\n"
     ]
    }
   ],
   "source": [
    "# Exercise 4, Step 4: Determine the highest value using if statements\n",
    "# Your code here\n",
    "highest = numbers[0]\n",
    "if numbers[1] > highest: highest = numbers[1]\n",
    "if numbers[2] > highest: highest = numbers[2]\n",
    "if numbers[3] > highest: highest = numbers[3]\n",
    "if numbers[4] > highest: highest = numbers[4]\n",
    "if numbers[5] > highest: highest = numbers[5]\n",
    "if numbers[6] > highest: highest = numbers[6]\n",
    "if numbers[7] > highest: highest = numbers[7]\n",
    "if numbers[8] > highest: highest = numbers[8]\n",
    "if numbers[9] > highest: highest = numbers[9]\n",
    "print(highest)"
   ]
  },
  {
   "cell_type": "code",
   "execution_count": 52,
   "metadata": {},
   "outputs": [
    {
     "name": "stdout",
     "output_type": "stream",
     "text": [
      "1\n"
     ]
    }
   ],
   "source": [
    "# Exercise 4, Step 5: Determine the lowest value using if statements\n",
    "# Your code here\n",
    "lowest = numbers[0]\n",
    "if numbers[1] < lowest: lowest = numbers[1]\n",
    "if numbers[2] < lowest: lowest = numbers[2]\n",
    "if numbers[3] < lowest: lowest = numbers[3]\n",
    "if numbers[4] < lowest: lowest = numbers[4]\n",
    "if numbers[5] < lowest: lowest = numbers[5]\n",
    "if numbers[6] < lowest: lowest = numbers[6]\n",
    "if numbers[7] < lowest: lowest = numbers[7]\n",
    "if numbers[8] < lowest: lowest = numbers[8]\n",
    "if numbers[9] < lowest: lowest = numbers[9]\n",
    "print(lowest)"
   ]
  },
  {
   "cell_type": "code",
   "execution_count": 54,
   "metadata": {},
   "outputs": [
    {
     "name": "stdout",
     "output_type": "stream",
     "text": [
      "Average: 5.5\n",
      "Highest: 10\n",
      "Lowest: 1\n"
     ]
    }
   ],
   "source": [
    "# Exercise 4, Step 6: Print the average, highest, and lowest values\n",
    "# Your code here\n",
    "print('Average:', avg)\n",
    "print('Highest:', highest)\n",
    "print('Lowest:', lowest)"
   ]
  },
  {
   "cell_type": "markdown",
   "metadata": {},
   "source": [
    "### Exercise 5: Vowel Filter Without Loops (Nearly Impossible)\n",
    "\n",
    "Create a program that filters a list of 7 strings to include only those that start with a vowel. **Do not use loops.** Instead, use individual conditional statements and manual indexing.\n",
    "\n",
    "1. **Create a List:** Write code to create a list with 7 strings of your choice.\n",
    "2. **Filter the List:** For each string in the list, check if its first character is a vowel (a, e, i, o, or u).\n",
    "   - *Hint:* To access the first character of a string, use `string[0]`.\n",
    "   - For each string that starts with a vowel, add it to a new list manually.\n",
    "3. **Print the New List:** Display the list of strings that begin with a vowel.\n"
   ]
  },
  {
   "cell_type": "code",
   "execution_count": 79,
   "metadata": {},
   "outputs": [],
   "source": [
    "# Exercise 5, Step 1: Create a list with 7 strings\n",
    "# Your code here\n",
    "strings = [\"We\", \"Are\", \"Never\", \"Ever\", \"Getting\", \"Back\", \"Together\"]"
   ]
  },
  {
   "cell_type": "code",
   "execution_count": 82,
   "metadata": {},
   "outputs": [],
   "source": [
    "# Exercise 5, Step 2: Filter the list to include only strings that start with a vowel\n",
    "# Your code here\n",
    "vowels = ['A', 'a', 'E', 'e', 'I', 'i', 'O', 'o', 'U', 'u']\n",
    "strings2 = []\n",
    "if strings[0][0] in vowels: strings2.append(strings[0])\n",
    "if strings[1][0] in vowels: strings2.append(strings[1])\n",
    "if strings[2][0] in vowels: strings2.append(strings[2])\n",
    "if strings[3][0] in vowels: strings2.append(strings[3])\n",
    "if strings[4][0] in vowels: strings2.append(strings[4])\n",
    "if strings[5][0] in vowels: strings2.append(strings[5])\n",
    "if strings[6][0] in vowels: strings2.append(strings[6])"
   ]
  },
  {
   "cell_type": "code",
   "execution_count": 83,
   "metadata": {},
   "outputs": [
    {
     "name": "stdout",
     "output_type": "stream",
     "text": [
      "['Are', 'Ever']\n"
     ]
    }
   ],
   "source": [
    "# Exercise 5, Step 3: Print the new list of strings that start with a vowel\n",
    "# Your code here\n",
    "print(strings2)"
   ]
  },
  {
   "cell_type": "markdown",
   "metadata": {},
   "source": [
    "### Submission Guidelines\n",
    "\n",
    "- Submit your work as a single Python file (`.py`) or a Jupyter Notebook (`.ipynb`).\n",
    "- Clearly label each exercise and include comments to explain your logic.\n",
    "- Focus on completing Exercises 1–3; Exercises 4 and 5 are stretch challenges.\n",
    "- Do not use loops or built-in aggregate functions in Exercises 4 and 5.\n",
    "\n",
    "Good luck, and have fun practicing your list and conditional skills!"
   ]
  }
 ],
 "metadata": {
  "kernelspec": {
   "display_name": "Python 3",
   "language": "python",
   "name": "python3"
  },
  "language_info": {
   "codemirror_mode": {
    "name": "ipython",
    "version": 3
   },
   "file_extension": ".py",
   "mimetype": "text/x-python",
   "name": "python",
   "nbconvert_exporter": "python",
   "pygments_lexer": "ipython3",
   "version": "3.13.0"
  }
 },
 "nbformat": 4,
 "nbformat_minor": 2
}
