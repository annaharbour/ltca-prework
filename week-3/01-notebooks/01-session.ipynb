{
 "cells": [
  {
   "cell_type": "markdown",
   "metadata": {},
   "source": [
    "# Session 1: Introduction to Lists\n",
    "\n",
    "Welcome to Session 1! Today we will review some fundamental programming concepts from previous sessions and then dive into lists—one of the most versatile data structures in Python. We will see how lists can store different types of values, how to manipulate them, and finally, you'll practice what you've learned through a guided exercise.\n",
    "\n",
    "## Agenda\n",
    "1. **Review and Demo** (15 minutes): Recap previous material and run a couple of live demos.\n",
    "2. **New Information – Introducing Lists** (40–45 minutes): Learn how to create, access, modify, and check membership in lists using several examples with different data types.\n",
    "3. **We Do and Wrap Up** (30 minutes): A hands-on exercise to solidify your understanding of lists."
   ]
  },
  {
   "cell_type": "markdown",
   "metadata": {},
   "source": [
    "## Part 1: Review and Demo\n",
    "\n",
    "Before we dive into lists, let’s quickly review some core concepts from previous sessions.\n",
    "\n",
    "**Key Topics:**\n",
    "- Variables and assignment\n",
    "- Conditional statements (`if`/`else`)\n",
    "\n",
    "### Quick Review Questions:\n",
    "1. What is a variable and how do you assign a value to it?\n",
    "2. How do you write an `if`/`else` statement in Python?\n",
    "3. Why are conditionals important in controlling the flow of your code?\n",
    "\n",
    "Below are two code cells for live demos. **(No answers are provided so that you can fill them in live with the class.)**"
   ]
  },
  {
   "cell_type": "markdown",
   "metadata": {},
   "source": [
    "1. A variable is a reference to named reference to a piece of memory allotted to hold a typed value\n",
    "2.  if condition:\n",
    "        expression if true\n",
    "    else:\n",
    "        expression if condition evaluates to false\n",
    "3. Conditionals allow for the handling of different scenarios, inputs, and results"
   ]
  },
  {
   "cell_type": "code",
   "execution_count": 6,
   "metadata": {},
   "outputs": [
    {
     "name": "stdout",
     "output_type": "stream",
     "text": [
      "<class 'float'>\n"
     ]
    }
   ],
   "source": [
    "# Demo 1: Basic variable assignment and if/else condition\n",
    "# Insert live demo code here\n",
    "num = 3 # int\n",
    "num = 3.00 # float\n",
    "print(type(num + 2))\n",
    "str = \"anything\" # string\n",
    "char = 'c'"
   ]
  },
  {
   "cell_type": "code",
   "execution_count": null,
   "metadata": {},
   "outputs": [],
   "source": [
    "# Demo 2: Comparing two variables\n",
    "# Insert live demo code here\n"
   ]
  },
  {
   "cell_type": "markdown",
   "metadata": {},
   "source": [
    "Great! With these basics in mind, we can now explore lists."
   ]
  },
  {
   "cell_type": "markdown",
   "metadata": {},
   "source": [
    "## Part 2: New Information – Introducing Lists\n",
    "\n",
    "Lists in Python are ordered collections that can store multiple items. These items can be of any type (e.g., strings, numbers, booleans, etc.).\n",
    "\n",
    "### 1. Creating Lists\n",
    "You can create a list by placing items inside square brackets `[]` separated by commas. Below are examples with different types of values."
   ]
  },
  {
   "cell_type": "code",
   "execution_count": null,
   "metadata": {},
   "outputs": [],
   "source": [
    "# Creating a list of strings (fruits)\n",
    "fruits = ['apple', 'banana', 'cherry']\n",
    "print('List of fruits:', fruits)"
   ]
  },
  {
   "cell_type": "code",
   "execution_count": null,
   "metadata": {},
   "outputs": [],
   "source": [
    "# Creating a list of integers (numbers)\n",
    "numbers = [1, 2, 3, 4, 5]\n",
    "print('List of numbers:', numbers)"
   ]
  },
  {
   "cell_type": "code",
   "execution_count": null,
   "metadata": {},
   "outputs": [],
   "source": [
    "# Creating a list with mixed data types\n",
    "# While allowed, this makes us work harder\n",
    "mixed_list = ['hello', 3.14, 42, True]\n",
    "print('Mixed list:', mixed_list)"
   ]
  },
  {
   "cell_type": "markdown",
   "metadata": {},
   "source": [
    "### 2. Accessing and Modifying Elements\n",
    "\n",
    "Lists are zero-indexed, meaning the first element is at index `0`. You can access an element by its index and modify it by assigning a new value."
   ]
  },
  {
   "cell_type": "code",
   "execution_count": null,
   "metadata": {},
   "outputs": [],
   "source": [
    "# Accessing the first element of the fruits list\n",
    "print('First fruit:', fruits[0])"
   ]
  },
  {
   "cell_type": "code",
   "execution_count": null,
   "metadata": {},
   "outputs": [],
   "source": [
    "# Accessing the second element of the numbers list\n",
    "print('Second number:', numbers[1])"
   ]
  },
  {
   "cell_type": "code",
   "execution_count": null,
   "metadata": {},
   "outputs": [],
   "source": [
    "# Modifying an element in the mixed_list: change the first element\n",
    "print('Original mixed list:', mixed_list)\n",
    "mixed_list[0] = 'world'\n",
    "print('Modified mixed list:', mixed_list)"
   ]
  },
  {
   "cell_type": "markdown",
   "metadata": {},
   "source": [
    "### 3. Adding and Removing Elements\n",
    "\n",
    "Lists are mutable, so you can change them after creation. Use the `append()` method to add an item, and `remove()` or `pop()` to remove items."
   ]
  },
  {
   "cell_type": "code",
   "execution_count": null,
   "metadata": {},
   "outputs": [],
   "source": [
    "# Appending an element to the fruits list\n",
    "fruits.append('orange')\n",
    "print('After appending orange:', fruits)"
   ]
  },
  {
   "cell_type": "code",
   "execution_count": null,
   "metadata": {},
   "outputs": [],
   "source": [
    "# Removing an element from the fruits list (remove 'banana')\n",
    "fruits.remove('banana')\n",
    "print('After removing banana:', fruits)"
   ]
  },
  {
   "cell_type": "code",
   "execution_count": null,
   "metadata": {},
   "outputs": [],
   "source": [
    "# Using pop() to remove the last element from the fruits list\n",
    "removed_item = fruits.pop()\n",
    "print('Popped item:', removed_item)\n",
    "print('List after pop:', fruits)"
   ]
  },
  {
   "cell_type": "markdown",
   "metadata": {},
   "source": [
    "### 4. Checking for Membership\n",
    "\n",
    "To check if an item exists in a list, you can use the `in` keyword. This works with any data type stored in the list."
   ]
  },
  {
   "cell_type": "code",
   "execution_count": null,
   "metadata": {},
   "outputs": [],
   "source": [
    "# Membership check in the list of integers (numbers)\n",
    "if 3 in numbers:\n",
    "    print('3 is in the numbers list.')\n",
    "else:\n",
    "    print('3 is not in the numbers list.')"
   ]
  },
  {
   "cell_type": "code",
   "execution_count": 12,
   "metadata": {},
   "outputs": [
    {
     "ename": "NameError",
     "evalue": "name 'mixed_list' is not defined",
     "output_type": "error",
     "traceback": [
      "\u001b[31m---------------------------------------------------------------------------\u001b[39m",
      "\u001b[31mNameError\u001b[39m                                 Traceback (most recent call last)",
      "\u001b[36mCell\u001b[39m\u001b[36m \u001b[39m\u001b[32mIn[12]\u001b[39m\u001b[32m, line 2\u001b[39m\n\u001b[32m      1\u001b[39m \u001b[38;5;66;03m# Membership check in the mixed-type list\u001b[39;00m\n\u001b[32m----> \u001b[39m\u001b[32m2\u001b[39m \u001b[38;5;28;01mif\u001b[39;00m \u001b[33m'\u001b[39m\u001b[33mworld\u001b[39m\u001b[33m'\u001b[39m \u001b[38;5;129;01min\u001b[39;00m \u001b[43mmixed_list\u001b[49m:\n\u001b[32m      3\u001b[39m     \u001b[38;5;28mprint\u001b[39m(\u001b[33m'\u001b[39m\u001b[33m\"\u001b[39m\u001b[33mworld\u001b[39m\u001b[33m\"\u001b[39m\u001b[33m is in the mixed list.\u001b[39m\u001b[33m'\u001b[39m)\n\u001b[32m      4\u001b[39m \u001b[38;5;28;01melse\u001b[39;00m:\n",
      "\u001b[31mNameError\u001b[39m: name 'mixed_list' is not defined"
     ]
    }
   ],
   "source": [
    "# Membership check in the mixed-type list\n",
    "if 'world' in mixed_list:\n",
    "    print('\"world\" is in the mixed list.')\n",
    "else:\n",
    "    print('\"world\" is not in the mixed list.')"
   ]
  },
  {
   "cell_type": "code",
   "execution_count": null,
   "metadata": {},
   "outputs": [],
   "source": [
    "# Additional Membership and Value Check\n",
    "# Create a list to test if the second element equals 'example'\n",
    "example_list = [\"sample\", \"example\", \"test\"]\n",
    "\n",
    "if example_list[1] == \"example\":\n",
    "    print(\"The second element of example_list is 'example'.\")\n",
    "else:\n",
    "    print(\"The second element of example_list is not 'example'.\")"
   ]
  },
  {
   "cell_type": "markdown",
   "metadata": {},
   "source": [
    "### 5. More Examples with Different Types of Lists\n",
    "\n",
    "Below are additional examples showing list operations using different data types:"
   ]
  },
  {
   "cell_type": "code",
   "execution_count": null,
   "metadata": {},
   "outputs": [],
   "source": [
    "# List of floating-point numbers\n",
    "floats = [1.1, 2.2, 3.3]\n",
    "print('Floats:', floats)"
   ]
  },
  {
   "cell_type": "code",
   "execution_count": null,
   "metadata": {},
   "outputs": [],
   "source": [
    "# List of booleans\n",
    "booleans = [True, False, True]\n",
    "print('Booleans:', booleans)"
   ]
  },
  {
   "cell_type": "markdown",
   "metadata": {},
   "source": [
    "Now that we've covered the creation and manipulation of lists with multiple examples, let's move on to the guided exercise."
   ]
  },
  {
   "cell_type": "markdown",
   "metadata": {},
   "source": [
    "## Part 3: We Do and Wrap Up\n",
    "\n",
    "It's time to put these concepts into practice. In the exercise below, you will:\n",
    "\n",
    "1. Create a list called `my_numbers` containing the numbers 1 to 5.\n",
    "2. Append the number 6 to `my_numbers`.\n",
    "3. Remove the number 3 from the list.\n",
    "4. Check if the number 4 is in the list and print an appropriate message.\n",
    "5. **Bonus:** Create a mixed-type list and perform at least one operation (access, modify, append, or remove).\n",
    "\n",
    "Work on the exercise by filling in the code cells below."
   ]
  },
  {
   "cell_type": "code",
   "execution_count": 22,
   "metadata": {},
   "outputs": [
    {
     "name": "stdout",
     "output_type": "stream",
     "text": [
      "Adding 6\n",
      "[1, 2, 3, 4, 5]\n",
      "[1, 2, 3, 4, 5, 6]\n",
      "Removing 3\n",
      "[1, 2, 4, 5, 6]\n",
      "4 is in my numbers\n",
      "Added string to list of numbers\n",
      "[1, 2, 4, 5, 6, 'Bonus']\n",
      "Removing last element...\n",
      "[1, 2, 4, 5, 6]\n"
     ]
    }
   ],
   "source": [
    "# Guided Exercise - Step 1:\n",
    "# Create a list called `my_numbers` containing the numbers 1 through 5.\n",
    "# Print the list.\n",
    "my_numbers = [1, 2, 3, 4, 5]\n",
    "print(\"Adding 6\")\n",
    "print(my_numbers)\n",
    "my_numbers.append(6)\n",
    "print(my_numbers)\n",
    "print(\"Removing 3\")\n",
    "my_numbers.remove(3)\n",
    "print(my_numbers)\n",
    "print(4 in my_numbers and \"4 is in my numbers\")\n",
    "my_numbers.append(\"Bonus\")\n",
    "print(\"Bonus\" in my_numbers and \"Added string to list of numbers\")\n",
    "print(my_numbers)\n",
    "print(\"Removing last element...\")\n",
    "my_numbers.pop()\n",
    "print(my_numbers)"
   ]
  },
  {
   "cell_type": "markdown",
   "metadata": {},
   "source": [
    "### Wrap-Up\n",
    "\n",
    "Today, we:\n",
    "- Reviewed basic concepts like variables and conditionals.\n",
    "- Learned about lists in Python: creating them with various types of values, accessing and modifying their elements, adding and removing items, and checking for membership.\n",
    "\n",
    "Feel free to continue experimenting with these examples or ask questions if anything is unclear. Great work today!"
   ]
  }
 ],
 "metadata": {
  "kernelspec": {
   "display_name": "Python 3",
   "language": "python",
   "name": "python3"
  },
  "language_info": {
   "codemirror_mode": {
    "name": "ipython",
    "version": 3
   },
   "file_extension": ".py",
   "mimetype": "text/x-python",
   "name": "python",
   "nbconvert_exporter": "python",
   "pygments_lexer": "ipython3",
   "version": "3.13.0"
  }
 },
 "nbformat": 4,
 "nbformat_minor": 2
}
