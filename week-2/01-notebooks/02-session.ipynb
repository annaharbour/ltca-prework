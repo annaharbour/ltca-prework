{
 "cells": [
  {
   "cell_type": "markdown",
   "id": "80010d9d",
   "metadata": {},
   "source": [
    "# Session 2: Advanced Conditional Logic\n",
    "\n",
    "Welcome to Session 2! Now that we understand basic conditionals, we will focus on **advanced logic structures**, including **deeply nested conditions, multi-level decision-making, and optimizing complex logic**.\n",
    "\n",
    "## Agenda\n",
    "1. **Review and Demo** (15 minutes): Quick recap of logical operators and conditionals.\n",
    "2. **New Information – Advanced Nested Conditions** (40–45 minutes): Learn how to optimize and structure multi-level conditions.\n",
    "3. **We Do (Exercises) and Wrap-Up** (30 minutes): Solve a complex real-world decision-making challenge.\n"
   ]
  },
  {
   "cell_type": "markdown",
   "id": "fe5684d9",
   "metadata": {},
   "source": [
    "## Part 1: Review and Demo"
   ]
  },
  {
   "cell_type": "markdown",
   "id": "e18f4853",
   "metadata": {},
   "source": [
    "Let's review key concepts from Session 1 before moving to advanced conditional logic.\n",
    "\n",
    "**Key Topics from Session 1:**\n",
    "- Logical operators (`and`, `or`, `not`).\n",
    "- Boolean values and truthy/falsy evaluation.\n",
    "- Writing simple `if-else` statements.\n",
    "\n",
    "### Quick Review Questions:\n",
    "1. What is the difference between `and` and `or` operators?\n",
    "2. Why might excessive nesting be problematic in conditionals?\n",
    "3. What values are considered falsy in Python?\n"
   ]
  },
  {
   "cell_type": "code",
   "execution_count": null,
   "id": "c871dc4b",
   "metadata": {},
   "outputs": [],
   "source": [
    "# Review: Logical Operators\n",
    "# and means both conditions must be true\n",
    "# or means either condition must be true\n",
    "\n",
    "# excessive nesting is complicated to read and may lead to redundencies or mistakes "
   ]
  },
  {
   "cell_type": "code",
   "execution_count": null,
   "id": "3c7667ba",
   "metadata": {},
   "outputs": [],
   "source": [
    "# Review: Truthy/Falsy Values\n",
    "\"A\" == \"B\"\n",
    "100 == 200\n",
    "100 > 200\n",
    "isValid = \"\"\n",
    "if isValid: print(\"Is Valid\") \n"
   ]
  },
  {
   "cell_type": "markdown",
   "id": "334494d2",
   "metadata": {},
   "source": [
    "## Part 2: New Information – Structuring Complex Decision Trees"
   ]
  },
  {
   "cell_type": "markdown",
   "id": "66acde0a",
   "metadata": {},
   "source": [
    "### 1. Nested If-Else Statements\n",
    "Conditional statements can be nested for more complex logic.\n",
    "\n",
    "**Example:**"
   ]
  },
  {
   "cell_type": "code",
   "execution_count": null,
   "id": "6ecf1e0f",
   "metadata": {},
   "outputs": [],
   "source": [
    "score = 85\n",
    "if score >= 60:\n",
    "    print('You passed!')\n",
    "    if score >= 90:\n",
    "        print('Excellent work!')\n",
    "    elif score >= 75:\n",
    "        print('Good job!')\n",
    "else:\n",
    "    print('You failed.')"
   ]
  },
  {
   "cell_type": "code",
   "execution_count": null,
   "id": "0d897f88",
   "metadata": {},
   "outputs": [],
   "source": [
    "age = 25\n",
    "experience = 2\n",
    "if age >= 18:\n",
    "    if experience >= 1:\n",
    "        print('You are eligible for the job')\n",
    "    else:\n",
    "        print('More experience needed')\n",
    "else:\n",
    "    print('You are too young for this role')"
   ]
  },
  {
   "cell_type": "markdown",
   "id": "ebdb2450",
   "metadata": {},
   "source": [
    "### 2. Deeply Nested Conditions\n",
    "When handling **multi-step logic**, conditions may become deeply nested. However, excessive nesting can make code hard to read.\n",
    "\n",
    "**Example of deep nesting (bad practice):**\n"
   ]
  },
  {
   "cell_type": "code",
   "execution_count": null,
   "id": "1e92fbb0",
   "metadata": {},
   "outputs": [],
   "source": [
    "age = 30\n",
    "income = 50000\n",
    "credit_score = 750\n",
    "if age >= 18:\n",
    "    if income >= 25000:\n",
    "        if credit_score >= 700:\n",
    "            print('Loan approved')\n",
    "        else:\n",
    "            print('Credit score too low')\n",
    "    else:\n",
    "        print('Income too low')\n",
    "else:\n",
    "    print('Applicant is underage')\n"
   ]
  },
  {
   "cell_type": "markdown",
   "id": "bf6f28d6",
   "metadata": {},
   "source": [
    "This works but is **not optimal**. We can **flatten** the logic using `and` conditions:\n"
   ]
  },
  {
   "cell_type": "code",
   "execution_count": null,
   "id": "1ddb182a",
   "metadata": {},
   "outputs": [],
   "source": [
    "if age >= 18 and income >= 25000 and credit_score >= 700:\n",
    "    print('Loan approved')\n",
    "elif age < 18:\n",
    "    print('Applicant is underage')\n",
    "elif income < 25000:\n",
    "    print('Income too low')\n",
    "else:\n",
    "    print('Credit score too low')\n"
   ]
  },
  {
   "cell_type": "markdown",
   "id": "bd094f4f",
   "metadata": {},
   "source": [
    "### 3. Multi-Level Decision Structures"
   ]
  },
  {
   "cell_type": "markdown",
   "id": "6ee6e8b1",
   "metadata": {},
   "source": [
    "We can **combine** multiple conditions to create decision trees.\n",
    "\n",
    "**Example:** Ticket Pricing System\n"
   ]
  },
  {
   "cell_type": "code",
   "execution_count": null,
   "id": "a51cc797",
   "metadata": {},
   "outputs": [],
   "source": [
    "age = 18\n",
    "membership = True \n",
    "\n",
    "if age < 12:\n",
    "    price = 5\n",
    "elif age < 18:\n",
    "    price = 8\n",
    "elif age >= 60:\n",
    "    price = 6\n",
    "else:\n",
    "    price = 10\n",
    "\n",
    "if membership:\n",
    "    price *= 0.9  # 10% discount for members\n",
    "\n",
    "print('Ticket price: ' + price)\n"
   ]
  },
  {
   "cell_type": "markdown",
   "id": "1b390ded",
   "metadata": {},
   "source": [
    "Here, we **first categorize by age** and **then adjust price based on membership status**.\n"
   ]
  },
  {
   "cell_type": "markdown",
   "id": "fd8fa8df",
   "metadata": {},
   "source": [
    "### 4. Inline Conditionals (`if-else` in One Line)\n",
    "\n",
    "Python allows you to write simple `if-else` statements in a single line using the following format:"
   ]
  },
  {
   "cell_type": "code",
   "execution_count": null,
   "id": "a2752dc1",
   "metadata": {},
   "outputs": [],
   "source": [
    "#value_if_true if condition else value_if_false"
   ]
  },
  {
   "cell_type": "markdown",
   "id": "2cd840fa",
   "metadata": {},
   "source": [
    "**Example:** Age Check"
   ]
  },
  {
   "cell_type": "code",
   "execution_count": null,
   "id": "30aff01e",
   "metadata": {},
   "outputs": [],
   "source": [
    "age = 20\n",
    "status = \"Adult\" if age >= 18 else \"Minor\"\n",
    "print(status) "
   ]
  },
  {
   "cell_type": "markdown",
   "id": "dc66c705",
   "metadata": {},
   "source": [
    "This is the same as writing:"
   ]
  },
  {
   "cell_type": "code",
   "execution_count": null,
   "id": "f65520f5",
   "metadata": {},
   "outputs": [],
   "source": [
    "if age >= 18:\n",
    "    status = \"Adult\"\n",
    "else:\n",
    "    status = \"Minor\""
   ]
  },
  {
   "cell_type": "markdown",
   "id": "06286702",
   "metadata": {},
   "source": [
    "**Example:** Even or Odd"
   ]
  },
  {
   "cell_type": "code",
   "execution_count": null,
   "id": "96712dc9",
   "metadata": {},
   "outputs": [],
   "source": [
    "number = 7\n",
    "result = \"Even\" if number % 2 == 0 else \"Odd\"\n",
    "print(result) "
   ]
  },
  {
   "cell_type": "markdown",
   "id": "bc5a0776",
   "metadata": {},
   "source": [
    "**Example:** Time-based Greeting"
   ]
  },
  {
   "cell_type": "code",
   "execution_count": null,
   "id": "fa873fb5",
   "metadata": {},
   "outputs": [],
   "source": [
    "hour = 14\n",
    "greeting = \"Good morning\" if hour < 12 else \"Good afternoon\"\n",
    "print(greeting) "
   ]
  },
  {
   "cell_type": "markdown",
   "id": "1eb3439a",
   "metadata": {},
   "source": [
    "### **Why Use Inline Conditionals?**\n",
    "- **Saves space** for simple conditions.\n",
    "- **Improves readability** when used wisely.\n",
    "- **Avoids unnecessary lines** for short decisions."
   ]
  },
  {
   "cell_type": "markdown",
   "id": "deacfc96",
   "metadata": {},
   "source": [
    "## Part 3: We Do (Complex Exercise) and Wrap-Up"
   ]
  },
  {
   "cell_type": "markdown",
   "id": "89626d5c",
   "metadata": {},
   "source": [
    "### **Scenario: Smart Home Automation System**\n",
    "\n",
    "You are designing a **smart home system** that controls the air conditioning and heating based on temperature and occupancy.\n",
    "\n",
    "**Requirements:**\n",
    "- If the room temperature is below 60°F, the heater turns on.\n",
    "- If the room temperature is above 75°F, the air conditioner turns on.\n",
    "- If no one is in the room, the system turns off all devices.\n",
    "- If someone is sleeping, the system keeps the temperature between **65°F and 72°F**.\n",
    "\n",
    "**Write a Python program that:**\n",
    "1. Uses predefined values for temperature, room occupancy (`True/False`), and sleeping status (`True/False`).\n",
    "2. Uses nested conditions and `elif` structures to determine the correct action.\n",
    "3. Outputs what action the system should take based on the conditions.\n",
    "\n",
    "Try modifying different values in the program to test different scenarios!"
   ]
  },
  {
   "cell_type": "code",
   "execution_count": 13,
   "id": "1f7d857e",
   "metadata": {},
   "outputs": [
    {
     "name": "stdout",
     "output_type": "stream",
     "text": [
      "Turn off all devices\n"
     ]
    }
   ],
   "source": [
    "temperature = 60\n",
    "occupied = False\n",
    "sleeping = True\n",
    "\n",
    "# Your logic goes here\n",
    "if not occupied: print(\"Turn off all devices\")\n",
    "elif temperature > 75 and not sleeping : print(\"Turn on AC\")\n",
    "elif temperature < 60 and not sleeping: print (\"Turn on heater\") \n",
    "elif sleeping: print(\"Keep temp between 65F and 72F\")   "
   ]
  },
  {
   "cell_type": "code",
   "execution_count": 6,
   "id": "3caa4955",
   "metadata": {},
   "outputs": [
    {
     "name": "stdout",
     "output_type": "stream",
     "text": [
      "True\n"
     ]
    }
   ],
   "source": [
    "x = 10\n",
    "if x >5:\n",
    "    print('True')\n",
    "else:\n",
    "    print('false')"
   ]
  },
  {
   "cell_type": "markdown",
   "id": "3bf2d934",
   "metadata": {},
   "source": [
    "### Wrap-Up\n",
    "Today, we:\n",
    "- Reviewed logical operators and conditional structures.\n",
    "- Learned how to **flatten** and **optimize** nested conditions.\n",
    "- Used structured logic to build a **decision tree system**."
   ]
  }
 ],
 "metadata": {
  "kernelspec": {
   "display_name": "Python 3",
   "language": "python",
   "name": "python3"
  },
  "language_info": {
   "codemirror_mode": {
    "name": "ipython",
    "version": 3
   },
   "file_extension": ".py",
   "mimetype": "text/x-python",
   "name": "python",
   "nbconvert_exporter": "python",
   "pygments_lexer": "ipython3",
   "version": "3.13.0"
  }
 },
 "nbformat": 4,
 "nbformat_minor": 5
}
