{
 "cells": [
  {
   "cell_type": "markdown",
   "metadata": {},
   "source": [
    "# Homework: Conditional Logic and Boolean Expressions"
   ]
  },
  {
   "cell_type": "markdown",
   "metadata": {},
   "source": [
    "## **Submission Guidelines**\n",
    "* Focus on completing Exercises 1, 2 and 3. Exercises 4 and 5 are _stretch challenges_.\n",
    "* Submit your work as a single Python file (__`.py`__) or a Jupyter Notebook (__`.ipynb`__).\n",
    "* Clearly label each exercise and include comments to explain your logic.\n",
    "\n",
    "\n",
    "## Instructions"
   ]
  },
  {
   "cell_type": "markdown",
   "metadata": {},
   "source": [
    "\n",
    "Copy this Jupyter Notebook and complete each exercise in the provided spaces.  \n",
    "\n",
    "- Clearly label each exercise and include comments explaining your logic.  \n",
    "- Focus on completing Exercises 1–3; Exercises 4 and 5 are a stretch challenge.\n",
    "- Modify the predefined variables as needed to test different cases.  \n",
    "\n",
    "**Remember to start with the English steps, write pseudocode, then write code.**"
   ]
  },
  {
   "cell_type": "markdown",
   "metadata": {},
   "source": [
    "## **Exercise 1: Basic Conditional Statements**"
   ]
  },
  {
   "cell_type": "markdown",
   "metadata": {},
   "source": [
    "\n",
    "1. **Write a Conditional Statement:** A variable `temperature` is already defined.\n",
    "2. **Use an If-Else Statement:** If the temperature is greater than 80, print `\"It's hot!\"`; otherwise, print `\"It's not too hot.\"`"
   ]
  },
  {
   "cell_type": "code",
   "execution_count": null,
   "metadata": {},
   "outputs": [],
   "source": [
    "# Exercise 1\n",
    "temperature = 75  # Change this value to test different conditions\n",
    "# Your if-else statement here\n",
    "if temperature > 80:\n",
    "    print(\"It's hot\")\n",
    "else:\n",
    "    print(\"It's not too hot.\")"
   ]
  },
  {
   "cell_type": "markdown",
   "metadata": {},
   "source": [
    "\n",
    "## **Exercise 2: Logical Operators**"
   ]
  },
  {
   "cell_type": "markdown",
   "metadata": {},
   "source": [
    "\n",
    "1. **Boolean Variables:** `is_raining` and `have_umbrella` are already defined.\n",
    "2. **Use Logical Operators:** Write an `if` statement that prints `\"You will stay dry\"` only if you have an umbrella or it's not raining."
   ]
  },
  {
   "cell_type": "code",
   "execution_count": 3,
   "metadata": {},
   "outputs": [],
   "source": [
    "# Exercise 2\n",
    "is_raining = False  # Change this to test\n",
    "have_umbrella = True  # Change this to test\n",
    "# Your conditional logic here\n",
    "if is_raining and have_umbrella:\n",
    "    print(\"You will stay dry\")"
   ]
  },
  {
   "cell_type": "markdown",
   "metadata": {},
   "source": [
    "## **Exercise 3: Nested Conditions**"
   ]
  },
  {
   "cell_type": "markdown",
   "metadata": {},
   "source": [
    "\n",
    "A **store discount system** follows these rules:\n",
    "- If a customer is a member, they get a 10% discount.\n",
    "- If they spend over $100, they get an additional 5% discount.\n",
    "- If they are not a member, they get no discount.\n",
    "\n",
    "Write a program that calculates the discount using predefined values for `is_member` and `total_spent`."
   ]
  },
  {
   "cell_type": "code",
   "execution_count": 7,
   "metadata": {},
   "outputs": [
    {
     "name": "stdout",
     "output_type": "stream",
     "text": [
      "5.0\n"
     ]
    }
   ],
   "source": [
    "is_member = True  # Change this value to test\n",
    "total_spent = 50  # Change this value to test\n",
    "discount = 0\n",
    "# Your logic here\n",
    "if is_member:\n",
    "    discount = .1 * total_spent\n",
    "    if total_spent > 100:\n",
    "        discount += .05 * total_spent\n",
    "\n",
    "print(discount)"
   ]
  },
  {
   "cell_type": "markdown",
   "metadata": {},
   "source": [
    "\n",
    "## **Exercise 4: Manual Number Comparison (Extra Hard)**"
   ]
  },
  {
   "cell_type": "markdown",
   "metadata": {},
   "source": [
    "\n",
    "Given three numbers `a, b, c`, determine and print the **largest** and **smallest** **without using built-in functions** like `max()` or `min()`.\n",
    "\n",
    "- **Hint**: You must manually compare each number using nested `if` statements."
   ]
  },
  {
   "cell_type": "code",
   "execution_count": null,
   "metadata": {},
   "outputs": [
    {
     "name": "stdout",
     "output_type": "stream",
     "text": [
      "Largest:  20\n",
      "Smallest:  10\n"
     ]
    }
   ],
   "source": [
    "# Exercise 5\n",
    "a = 10\n",
    "b = 20\n",
    "c = 15\n",
    "smallest = None\n",
    "largest = None\n",
    "\n",
    "# find largest\n",
    "if a >= b and a >=c:\n",
    "    largest = a\n",
    "elif b >= a and b >= c:\n",
    "    largest = b\n",
    "else:\n",
    "    largest = c\n",
    "# find smallest\n",
    "if a <= b and a <= c:\n",
    "    smallest = a\n",
    "elif b >= a and b <= c:\n",
    "    smallest = b\n",
    "else:\n",
    "    smallest = c\n",
    "\n",
    "print(\"Largest: \", largest)\n",
    "print(\"Smallest: \", smallest)"
   ]
  },
  {
   "cell_type": "markdown",
   "metadata": {},
   "source": [
    "## **Exercise 5: Nested Logical Puzzle (Nearly Impossible)**"
   ]
  },
  {
   "cell_type": "markdown",
   "metadata": {},
   "source": [
    "\n",
    "You're given four integer variables: `a`, `b`, `c`, and `d`. Write a program to determine and print:\n",
    "\n",
    "1. **The second largest** number among the four variables **without using any built-in functions or sorting**.\n",
    "2. Additionally, identify if the second largest number is **even or odd** and print the result accordingly.\n",
    "\n",
    "You must solve this **only using nested conditional statements and logical operators**. \n",
    "\n",
    "**Example Output:**  \n",
    "```\n",
    "The second largest number is 42\n",
    "The second largest number is even.\n",
    "```\n",
    "\n",
    "This challenge demands careful consideration of multiple comparisons and conditions.\n"
   ]
  },
  {
   "cell_type": "code",
   "execution_count": null,
   "metadata": {},
   "outputs": [
    {
     "name": "stdout",
     "output_type": "stream",
     "text": [
      "The largest number is 42\n",
      "The second largest is even\n"
     ]
    }
   ],
   "source": [
    "# Exercise 5\n",
    "a = 25  # Change this to test\n",
    "b = 42  # Change this to test\n",
    "c = 37  # Change this to test\n",
    "d = 42  # Change this to test\n",
    "\n",
    "# Your logic here\n",
    "largest = None\n",
    "second_largest = None\n",
    "# top conditional layer finds largest\n",
    "if a >= b and a >= c and a >=d:\n",
    "    largest = a\n",
    "    # inner conditional layer finds second largest\n",
    "    if b >= c and b >= d:\n",
    "        second_largest = b\n",
    "    elif c >= b and c >= d:\n",
    "        second_largest = c\n",
    "    else:\n",
    "        second_largest = d\n",
    "\n",
    "elif b >= a and b >= c and b >= d:\n",
    "    largest = b\n",
    "    if a >= c and a >= d:\n",
    "        second_largest = a\n",
    "    elif c >= a and c >= d:\n",
    "        second_largest = c\n",
    "    else:\n",
    "        second_largest = d\n",
    "\n",
    "elif c >= a and c >= c and c >= d:\n",
    "    largest = c\n",
    "    if a >= b and a >= d:\n",
    "        second_largest = a\n",
    "    elif b >= a and b >= d:\n",
    "        second_largest = b\n",
    "    else:\n",
    "        second_largest = d\n",
    "    \n",
    "else:\n",
    "    largest = d\n",
    "    if a >= b and a >= c:\n",
    "        second_largest = a\n",
    "    elif b >= a and b >= c:\n",
    "        second_largest = b\n",
    "    else:\n",
    "        second_largest = c\n",
    "                \n",
    "print(f\"The largest number is {largest}\")\n",
    "print(f\"The second largest is {\"even\" if second_largest % 2 == 0 else \"odd\"}\")\n",
    "\n"
   ]
  },
  {
   "cell_type": "markdown",
   "metadata": {},
   "source": [
    "\n",
    "\n",
    "## **Submission Guidelines**"
   ]
  },
  {
   "cell_type": "markdown",
   "metadata": {},
   "source": [
    "\n",
    "- Submit your work as a single Python file (`.py`) or a Jupyter Notebook (`.ipynb`).\n",
    "- Clearly label each exercise and include comments to explain your logic.\n",
    "- Focus on completing Exercises 1–3; Exercises 4 and 5 are a stretch challenge.\n"
   ]
  }
 ],
 "metadata": {
  "kernelspec": {
   "display_name": "Python 3",
   "language": "python",
   "name": "python3"
  },
  "language_info": {
   "codemirror_mode": {
    "name": "ipython",
    "version": 3
   },
   "file_extension": ".py",
   "mimetype": "text/x-python",
   "name": "python",
   "nbconvert_exporter": "python",
   "pygments_lexer": "ipython3",
   "version": "3.13.0"
  }
 },
 "nbformat": 4,
 "nbformat_minor": 2
}
