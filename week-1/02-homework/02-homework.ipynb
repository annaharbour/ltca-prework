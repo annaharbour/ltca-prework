{
 "cells": [
  {
   "cell_type": "markdown",
   "id": "76639b6d-da73-4e1e-8aaa-0070a2403485",
   "metadata": {},
   "source": [
    "# Homework: Variables/Boolean Expressions/__`if`__ Statements/Pseudocode\n",
    "\n",
    "## **Submission Guidelines**\n",
    "* Focus on completing Exercises 1, 2 and 3. Exercises 4 and 5 are _stretch challenges_.\n",
    "* Submit your work as a single Python file (__`.py`__) or a Jupyter Notebook (__`.ipynb`__).\n",
    "* Clearly label each exercise and include comments to explain your logic.\n",
    "\n",
    "## Instructions\n",
    "\n",
    "Complete the following exercises in a single Python file or Jupyter Notebook. Clearly label each exercise and when needed, include comments explaining your logic. Focus on completing Exercise 1 through 4. Exercise 5 is a _stretch challenge_."
   ]
  },
  {
   "cell_type": "markdown",
   "id": "1b3cec93-6b5b-4d78-81ab-17ab17b75a25",
   "metadata": {},
   "source": [
    "### Exercise 1: Variables\n",
    "* Each scenario below describes some data to be manipulated by your code. Choose appropriate variable names (and values) and create variables/expressions for these scenarios.\n",
    "  "
   ]
  },
  {
   "cell_type": "markdown",
   "id": "8a3f8bb8-024e-4645-b633-356db225d206",
   "metadata": {},
   "source": [
    "1. Determine the cost of some number of pounds of cement. Assume there is a sales tax that applies.\n",
    "  "
   ]
  },
  {
   "cell_type": "code",
   "execution_count": 20,
   "id": "d0fe743d-1acd-41a8-a0b9-92aedc8fc0a4",
   "metadata": {},
   "outputs": [
    {
     "name": "stdout",
     "output_type": "stream",
     "text": [
      "52.25\n"
     ]
    }
   ],
   "source": [
    "def apply_tax(subtotal, tax):\n",
    "    return subtotal + tax * subtotal\n",
    "\n",
    "def calculate_subtotal(num_lbs, cost_per_lb):\n",
    "    return num_lbs * cost_per_lb\n",
    "\n",
    "lbs_cement = 250\n",
    "cement_price_per_lb = .20\n",
    "cement_tax = .045\n",
    "cement_cost = apply_tax(calculate_subtotal(lbs_cement, cement_price_per_lb), cement_tax)\n",
    "\n",
    "print(cement_cost)\n"
   ]
  },
  {
   "cell_type": "markdown",
   "id": "b1aa5351-43b1-401f-b15a-ecff2d4c393b",
   "metadata": {},
   "source": [
    "2. Given the cost of various containers of eggs (perhaps half a dozen, one dozen, and 1 1/2 dozen), determine the cost _per egg_ for each of those containers.\n",
    "  "
   ]
  },
  {
   "cell_type": "code",
   "execution_count": 14,
   "id": "e757836e-1848-434f-9301-d41470770f49",
   "metadata": {},
   "outputs": [
    {
     "name": "stdout",
     "output_type": "stream",
     "text": [
      "The cost per egg in a half a dozen size carton is $0.45.\n",
      "The cost per egg in a one dozen size carton is $0.46.\n",
      "The cost per egg in a eighteen-count size carton is $0.44.\n"
     ]
    }
   ],
   "source": [
    "# hash map to hold number of eggs in a carton and cost of said carton\n",
    "egg_carton_prices = {\"half a dozen\": (6, 2.69), \"one dozen\": (12, 5.49), \"eighteen-count\": (18, 7.99)}\n",
    "cost_per_egg ={}\n",
    "\n",
    "# iterating through kv pairs to calculate cost per egg for each carton size\n",
    "for carton, (num_eggs, price) in egg_carton_prices.items():\n",
    "    cost_per_egg[carton] = round(price / num_eggs, 2)\n",
    "\n",
    "# printing results\n",
    "for carton, egg_cost in cost_per_egg.items():\n",
    "    print(f\"The cost per egg in a {carton} size carton is ${egg_cost}.\")\n"
   ]
  },
  {
   "cell_type": "markdown",
   "id": "192dfb2f-790e-4725-b201-3b803f4fc348",
   "metadata": {},
   "source": [
    "3. Given an hourly wage and a number of hours worked, determine how much a worker should be paid for shoveling snow."
   ]
  },
  {
   "cell_type": "code",
   "execution_count": null,
   "id": "9f098469-0470-4a68-ba73-721bd6526c2c",
   "metadata": {},
   "outputs": [
    {
     "data": {
      "text/plain": [
       "540"
      ]
     },
     "execution_count": 16,
     "metadata": {},
     "output_type": "execute_result"
    }
   ],
   "source": [
    "def calculate_wages(num_hours, hourly_wage):\n",
    "    return num_hours * hourly_wage\n",
    "\n",
    "hourly_wage_snow_shoveling = 18\n",
    "hours_worked = 30\n",
    "calculate_wages(hours_worked, hourly_wage_snow_shoveling)\n"
   ]
  },
  {
   "cell_type": "markdown",
   "id": "3a702132-7720-45b3-97d6-6dc7d4fc1113",
   "metadata": {},
   "source": [
    "### Exercise 2: Boolean Expressions\n",
    "* Each scenario below describes some data to be manipulated by your code. Choose appropriate variable names (and values) and create Boolean expressions for these scenarios.\n",
    "  "
   ]
  },
  {
   "cell_type": "markdown",
   "id": "192e9f66-c2a7-4933-beaa-4666f57ac042",
   "metadata": {},
   "source": [
    "1. Given the number of hours worked in a week, determine whether the employee will receive any overtime pay.\n",
    "  "
   ]
  },
  {
   "cell_type": "code",
   "execution_count": 30,
   "id": "d99bbc14-4ab9-4cc2-abf4-0f847d4aa95c",
   "metadata": {},
   "outputs": [
    {
     "name": "stdout",
     "output_type": "stream",
     "text": [
      "False\n"
     ]
    }
   ],
   "source": [
    "hours_worked = 30\n",
    "receive_overtime_pay = hours_worked > 40\n",
    "print(receive_overtime_pay)"
   ]
  },
  {
   "cell_type": "markdown",
   "id": "39e3ed1b-b146-4653-a011-05cc34913574",
   "metadata": {},
   "source": [
    "2. Determine whether someone else's name is the same as your name.\n",
    "  "
   ]
  },
  {
   "cell_type": "code",
   "execution_count": 25,
   "id": "99c07417-eb54-44db-8fdf-d890b0f48892",
   "metadata": {},
   "outputs": [
    {
     "name": "stdout",
     "output_type": "stream",
     "text": [
      "False\n"
     ]
    }
   ],
   "source": [
    "same_name = False\n",
    "my_name = \"Anna\"\n",
    "their_name = \"!Anna\"\n",
    "\n",
    "same_name = their_name == \"Anna\" \n",
    "print(same_name)"
   ]
  },
  {
   "cell_type": "markdown",
   "id": "906a7a13-ae3e-4369-8853-a970d326c03e",
   "metadata": {},
   "source": [
    "3. Determine whether the number of consecutive days of rain is at least 3"
   ]
  },
  {
   "cell_type": "code",
   "execution_count": 26,
   "id": "490fd285-10c5-4d98-8bb5-fde0566e6064",
   "metadata": {},
   "outputs": [
    {
     "data": {
      "text/plain": [
       "True"
      ]
     },
     "execution_count": 26,
     "metadata": {},
     "output_type": "execute_result"
    }
   ],
   "source": [
    "days_of_rain = 4\n",
    "days_of_rain >= 3"
   ]
  },
  {
   "cell_type": "markdown",
   "id": "6901b93f-56e3-4400-9acb-cee75d015682",
   "metadata": {},
   "source": [
    "### Exercise 3: Pseudocode\n",
    "* Turn the following bits of pseudocode into __`if`__ statements\n",
    "  "
   ]
  },
  {
   "cell_type": "markdown",
   "id": "9dfa5f07-9053-4497-ab09-a2dd4d4445f1",
   "metadata": {},
   "source": [
    "1. Output a warning if the person's name is empty"
   ]
  },
  {
   "cell_type": "code",
   "execution_count": 37,
   "id": "73257e89",
   "metadata": {},
   "outputs": [
    {
     "name": "stdout",
     "output_type": "stream",
     "text": [
      "Please enter your name!\n"
     ]
    }
   ],
   "source": [
    "name = None\n",
    "if name is None:\n",
    "    print(\"Please enter your name!\")"
   ]
  },
  {
   "cell_type": "markdown",
   "id": "8f66564d-86cf-4141-be27-fe41a0145695",
   "metadata": {},
   "source": [
    "2. Turn on the fuel warning light when the number of gallons remaining is less than 1.5"
   ]
  },
  {
   "cell_type": "code",
   "execution_count": 50,
   "id": "532bc024",
   "metadata": {},
   "outputs": [
    {
     "name": "stdout",
     "output_type": "stream",
     "text": [
      "True\n"
     ]
    }
   ],
   "source": [
    "num_gallons = 1\n",
    "if num_gallons < 1.5:\n",
    "    fuel_warning_light_on = True\n",
    "else:\n",
    "    fuel_warning_light_on = False\n",
    "print(fuel_warning_light_on)"
   ]
  },
  {
   "cell_type": "markdown",
   "id": "a3f4e55f-8d45-4fef-bfe2-a754e694872e",
   "metadata": {},
   "source": [
    "3. BMI can be calculated as 703 times weight in pounds, divided by height in inches squared. Output \"Healthy BMI\" if the calculated BMI is below 25."
   ]
  },
  {
   "cell_type": "code",
   "execution_count": 30,
   "id": "76b23799",
   "metadata": {},
   "outputs": [
    {
     "name": "stdout",
     "output_type": "stream",
     "text": [
      "Healthy BMI\n"
     ]
    }
   ],
   "source": [
    "def calculate_bmi(weight_lbs, height):\n",
    "    return (703 * weight_lbs) / (height ** 2)\n",
    "bmi = calculate_bmi(125, 71)\n",
    "if bmi < 25:\n",
    "    print(\"Healthy BMI\")"
   ]
  },
  {
   "cell_type": "markdown",
   "id": "2c55859e-fa56-4690-a8a6-70b73e1249fc",
   "metadata": {},
   "source": [
    "### Exercise 4: if statements\n",
    "* Explain what each of the following __`if`__ statements is doing/asking"
   ]
  },
  {
   "cell_type": "code",
   "execution_count": 34,
   "id": "e282eb92-7ac0-47c8-9ee6-6311d7832a39",
   "metadata": {},
   "outputs": [
    {
     "name": "stdout",
     "output_type": "stream",
     "text": [
      "...\n"
     ]
    }
   ],
   "source": [
    "feet = 4\n",
    "inches = 8\n",
    "\n",
    "if feet * 12 + inches >= 56:\n",
    "    print('...')"
   ]
  },
  {
   "cell_type": "code",
   "execution_count": null,
   "id": "a403c893-6b7e-4497-9e44-14e1ca773181",
   "metadata": {},
   "outputs": [],
   "source": [
    "# converting feet to inches \n",
    "# adding the inches together\n",
    "# checking the sum is greater than or equal to 56 inches\n",
    "# evaluates true\n",
    "# prints ..."
   ]
  },
  {
   "cell_type": "code",
   "execution_count": 35,
   "id": "d20594b7-6e22-49c9-af84-59f842357bc4",
   "metadata": {},
   "outputs": [
    {
     "name": "stdout",
     "output_type": "stream",
     "text": [
      "9\n",
      "4\n"
     ]
    }
   ],
   "source": [
    "hours = 220\n",
    "days = 0\n",
    "\n",
    "if hours > 23:\n",
    "    days = hours // 24\n",
    "    print(days)\n",
    "    \n",
    "print(hours - days * 24)"
   ]
  },
  {
   "cell_type": "code",
   "execution_count": null,
   "id": "64dac05b-d423-448f-8369-6f0f6b0cb9c3",
   "metadata": {},
   "outputs": [],
   "source": [
    "# instantiates hours and days\n",
    "# checks if hours greater than 23\n",
    "# conditional is true\n",
    "# converts hours to days and floors (rounds down) result\n",
    "# print full days\n",
    "# calculate remaining hours by subtracting full days from total hours"
   ]
  },
  {
   "cell_type": "code",
   "execution_count": 1,
   "id": "6b8c21b4-3a09-435d-a36c-0bde2fea31ad",
   "metadata": {},
   "outputs": [
    {
     "name": "stdout",
     "output_type": "stream",
     "text": [
      "3 dozen\n",
      "plus 9\n"
     ]
    }
   ],
   "source": [
    "eggs = 45\n",
    "\n",
    "if eggs >= 12:\n",
    "    print(eggs // 12, 'dozen')\n",
    "\n",
    "print('plus', eggs - (eggs // 12) * 12)"
   ]
  },
  {
   "cell_type": "code",
   "execution_count": null,
   "id": "23dee90b-6807-4ca7-8a3b-77a58c21217f",
   "metadata": {},
   "outputs": [],
   "source": [
    "# instantiate eggs to 45\n",
    "# if eggs greater or equal to a dozen\n",
    "# print the number of whole dozens and the string 'dozen'\n",
    "# outside of the conditional, calculate how many eggs in addition however many entire dozen"
   ]
  },
  {
   "cell_type": "markdown",
   "id": "b0196bce-78f4-489f-8209-0e4d0eb601b9",
   "metadata": {},
   "source": [
    "### Exercise 5: if statements\n",
    "1. Turn the following English description of a problem (steps) into pseudocode. Not that where you see \"find out\" below, you can either assume the value will be in a variable, or you can get input from the user. Remember this is pseudocode you are writing, so even though we haven't learned how to get input from the user, you could specify that action in your pseudocode. \n",
    " \n",
    "    1. find out how many people are in their party\n",
    "    1. find out the start time of the movie they want to see\n",
    "    1. find out how many seniors (62+) are in their party\n",
    "    1. find out how many students are in their party\n",
    "    1. the price of their tickets will be \\\\$10 each for movies that start after 4:30 pm and \\\\$7.50 for movies that start before 4:30 pm\n",
    "    1. seniors (62+) receive a 50% discount on the ticket price\n",
    "    1. students received a 25% discount on the ticket price\n",
    "    1. a group of 10+ paid at the same time saves \\\\$1 per ticket, on top of any other discounts\n",
    "\n",
    "1. Now turn your pseudocode into working Python code. Again, we haven't learned how to get input from the user but could also look it up or you could set variables with various values and ensure the result is correct. "
   ]
  },
  {
   "cell_type": "code",
   "execution_count": null,
   "id": "c6738a10-12ad-410a-8b16-b1b8a517cece",
   "metadata": {},
   "outputs": [
    {
     "name": "stdout",
     "output_type": "stream",
     "text": [
      "133.25\n"
     ]
    }
   ],
   "source": [
    "# accept input num of people in the party\n",
    "num_people = int(input(\"How many people in your party?\"))\n",
    "# accept input start time of movie\n",
    "start_time = input(\"Enter time (HH:MM): \").split(\":\")\n",
    "# am not handling AM edge cases, also am not handling incompatible user input\n",
    "hours, mins = start_time\n",
    "hours, mins = int(hours), int(mins)\n",
    "mins += hours * 60\n",
    "ticket_price = 10.00\n",
    "# if 270 minutes past noon aka 4:30 or later\n",
    "if mins >= 270:\n",
    "    ticket_price = 7.50\n",
    "# accept input number of students\n",
    "num_students = int(input(\"How many students are in your party?\"))\n",
    "# accept input number of seniors\n",
    "num_seniors = int(input(\"How many seniors (age 62+) are in your party?\"))\n",
    "# apply discounts\n",
    "senior_discount = 0.5 * num_seniors\n",
    "student_discount = 0.25* num_students\n",
    "total = ticket_price*num_people - student_discount - senior_discount\n",
    "# add final group of 10+ discount if applicable\n",
    "if num_people >= 10:\n",
    "    total -= num_people\n",
    "\n",
    "print(total)"
   ]
  }
 ],
 "metadata": {
  "kernelspec": {
   "display_name": "Python 3",
   "language": "python",
   "name": "python3"
  },
  "language_info": {
   "codemirror_mode": {
    "name": "ipython",
    "version": 3
   },
   "file_extension": ".py",
   "mimetype": "text/x-python",
   "name": "python",
   "nbconvert_exporter": "python",
   "pygments_lexer": "ipython3",
   "version": "3.13.0"
  }
 },
 "nbformat": 4,
 "nbformat_minor": 5
}
